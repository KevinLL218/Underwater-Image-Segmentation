{
 "cells": [
  {
   "cell_type": "code",
   "execution_count": 1,
   "metadata": {},
   "outputs": [],
   "source": [
    "import matplotlib.pyplot as plt\n",
    "import numpy as np\n",
    "import cv2\n",
    "from PIL import Image\n",
    "from pylab import *\n",
    "from skimage import measure,draw,data\n",
    "import json\n"
   ]
  },
  {
   "cell_type": "code",
   "execution_count": 2,
   "metadata": {},
   "outputs": [],
   "source": [
    "def close_contour(contour):\n",
    "    if not np.array_equal(contour[0], contour[-1]):\n",
    "        contour = np.vstack((contour, contour[0]))\n",
    "    return contour"
   ]
  },
  {
   "cell_type": "code",
   "execution_count": 3,
   "metadata": {},
   "outputs": [],
   "source": [
    "def create_sub_masks(mask_image):#将三个子mask分离出来\n",
    "    width, height = mask_image.size\n",
    "\n",
    "    # Initialize a dictionary of sub-masks indexed by RGB colors\n",
    "    sub_masks = {}\n",
    "    for x in range(width):\n",
    "        for y in range(height):\n",
    "            # Get the RGB values of the pixel\n",
    "            pixel = mask_image.getpixel((x,y))[:3]\n",
    "            \n",
    "            # Check to see if we've created a sub-mask...\n",
    "            pixel_str = str(pixel)\n",
    "            sub_mask = sub_masks.get(pixel_str)\n",
    "            if sub_mask is None:\n",
    "                # Create a sub-mask (one bit per pixel) and add to the dictionary\n",
    "                # Note: we add 1 pixel of padding in each direction\n",
    "                # because the contours module doesn't handle cases\n",
    "                # where pixels bleed to the edge of the image\n",
    "                sub_masks[pixel_str] = Image.new('1', (width+2, height+2))\n",
    "\n",
    "            # Set the pixel value to 1 (default is 0), accounting for padding\n",
    "            sub_masks[pixel_str].putpixel((x+1, y+1), 1)\n",
    "            \n",
    "    maps = {\"(0, 0, 0)\":\"background\",\"(0, 128, 0)\":\"pipe\",\"(128, 0, 0)\":\"valve\"}\n",
    "    for v in list(sub_masks.keys()):\n",
    "        sub_masks[maps[v]] = sub_masks.pop(v)\n",
    "\n",
    "    return sub_masks"
   ]
  },
  {
   "cell_type": "code",
   "execution_count": 4,
   "metadata": {},
   "outputs": [],
   "source": [
    "#binary_mask_to_polygon\n",
    "#mask2polygon\n",
    "#将二值mask转换为segmentation\n",
    "#create_sub_masks\n",
    "#将三通道原始mask图像转换为n个子mask\n"
   ]
  },
  {
   "cell_type": "code",
   "execution_count": 5,
   "metadata": {},
   "outputs": [],
   "source": [
    "def binary_mask_to_polygon(binary_mask, tolerance=0):\n",
    "    \"\"\"Converts a binary mask to COCO polygon representation\n",
    "    Args:\n",
    "        binary_mask: a 2D binary numpy array where '1's represent the object\n",
    "        tolerance: Maximum distance from original points of polygon to approximated\n",
    "            polygonal chain. If tolerance is 0, the original coordinate array is returned.\n",
    "    \"\"\"\n",
    "    polygons = []\n",
    "    # pad mask to close contours of shapes which start and end at an edge\n",
    "    padded_binary_mask = np.pad(binary_mask, pad_width=1, mode='constant', constant_values=0)\n",
    "    contours = measure.find_contours(padded_binary_mask, 0.5)\n",
    "    \n",
    "    for c in contours:\n",
    "        c = np.array(c)\n",
    "    \n",
    "    #contours = np.subtract(contours, 1)\n",
    "    for contour in contours:\n",
    "        contour = np.subtract(contour,1)\n",
    "        contour = close_contour(contour)\n",
    "        contour = measure.approximate_polygon(contour, tolerance)\n",
    "        if len(contour) < 3:\n",
    "            continue\n",
    "        contour = np.flip(contour, axis=1)\n",
    "        segmentation = contour.ravel().tolist()\n",
    "        # after padding and subtracting 1 we may get -0.5 points in our segmentation\n",
    "        segmentation = [0 if i < 0 else i for i in segmentation]\n",
    "        polygons.append(segmentation)\n",
    "\n",
    "    return polygons"
   ]
  },
  {
   "cell_type": "code",
   "execution_count": 6,
   "metadata": {},
   "outputs": [],
   "source": [
    "def mask2polygon(mask):\n",
    "    contours, hierarchy = cv2.findContours((mask).astype(np.uint8), cv2.RETR_TREE,cv2.CHAIN_APPROX_SIMPLE)\n",
    "    # mask_new, contours, hierarchy = cv2.findContours((mask).astype(np.uint8), cv2.RETR_TREE,cv2.CHAIN_APPROX_SIMPLE)\n",
    "    segmentation = []\n",
    "    for contour in contours:\n",
    "        contour_list = contour.flatten().tolist()\n",
    "        if len(contour_list) > 4:# and cv2.contourArea(contour)>10000\n",
    "            segmentation.append(contour_list)\n",
    "    return segmentation"
   ]
  },
  {
   "cell_type": "code",
   "execution_count": 7,
   "metadata": {},
   "outputs": [],
   "source": [
    "def bounding_box(img):\n",
    "    #计算包围盒\n",
    "    rows = np.any(img, axis=1)\n",
    "    cols = np.any(img, axis=0)\n",
    "    rmin, rmax = np.where(rows)[0][[0, -1]]\n",
    "    cmin, cmax = np.where(cols)[0][[0, -1]]\n",
    "\n",
    "    return rmin, rmax, cmin, cmax\n",
    "def countArea(box):\n",
    "    #计算area\n",
    "    return abs((box[1]-box[0])*(box[3]-box[2]))"
   ]
  },
  {
   "cell_type": "code",
   "execution_count": 8,
   "metadata": {},
   "outputs": [],
   "source": [
    "#coco数据格式\n",
    "s = {\n",
    "    \"info\": {},\n",
    "    \"categories\": [\n",
    "        {\n",
    "            \"id\": 0,\n",
    "            \"name\": \"background\",\n",
    "            \"supercategory\": 0,\n",
    "            \"metadata\": {},\n",
    "            \"color\": \"#000000\"\n",
    "        },\n",
    "        {\n",
    "            \"id\": 1,\n",
    "            \"name\": \"pipe\",\n",
    "            \"supercategory\": 0,\n",
    "            \"metadata\": {},\n",
    "            \"color\": \"#008000\"\n",
    "        },\n",
    "        {\n",
    "            \"id\": 2,\n",
    "            \"name\": \"valve\",\n",
    "            \"supercategory\": 0,\n",
    "            \"metadata\": {},\n",
    "            \"color\": \"#800000\"\n",
    "        }\n",
    "    ],\n",
    "    \"images\": [\n",
    "    ],\n",
    "    \"annotations\": [\n",
    "    ]\n",
    "}\n",
    "        "
   ]
  },
  {
   "cell_type": "code",
   "execution_count": 4,
   "metadata": {},
   "outputs": [],
   "source": [
    "import os"
   ]
  },
  {
   "cell_type": "code",
   "execution_count": 2,
   "metadata": {},
   "outputs": [],
   "source": [
    "maskdir = \"masks/\"\n",
    "color = {\"background\":\"#000000\",\"pipe\":\"#008000\",\"valve\":\"#800000\"}\n",
    "catid = {\"background\":0,\"pipe\":1,\"valve\":2}"
   ]
  },
  {
   "cell_type": "code",
   "execution_count": 5,
   "metadata": {
    "scrolled": true
   },
   "outputs": [],
   "source": [
    "masks = os.listdir(maskdir)"
   ]
  },
  {
   "cell_type": "code",
   "execution_count": 12,
   "metadata": {},
   "outputs": [
    {
     "name": "stdout",
     "output_type": "stream",
     "text": [
      "progress:0\n",
      "progress:1\n",
      "progress:2\n",
      "progress:3\n",
      "progress:4\n",
      "progress:5\n",
      "progress:6\n",
      "progress:7\n",
      "progress:8\n",
      "progress:9\n",
      "progress:10\n",
      "progress:11\n",
      "progress:12\n",
      "progress:13\n",
      "progress:14\n",
      "progress:15\n",
      "progress:16\n",
      "progress:17\n",
      "progress:18\n",
      "progress:19\n",
      "progress:20\n",
      "progress:21\n",
      "progress:22\n",
      "progress:23\n",
      "progress:24\n",
      "progress:25\n",
      "progress:26\n",
      "progress:27\n",
      "progress:28\n",
      "progress:29\n",
      "progress:30\n",
      "progress:31\n",
      "progress:32\n",
      "progress:33\n",
      "progress:34\n",
      "progress:35\n",
      "progress:36\n",
      "progress:37\n",
      "progress:38\n",
      "progress:39\n",
      "progress:40\n",
      "progress:41\n",
      "progress:42\n",
      "progress:43\n",
      "progress:44\n",
      "progress:45\n",
      "progress:46\n",
      "progress:47\n",
      "progress:48\n",
      "progress:49\n",
      "progress:50\n",
      "progress:51\n",
      "progress:52\n",
      "progress:53\n",
      "progress:54\n",
      "progress:55\n",
      "progress:56\n",
      "progress:57\n",
      "progress:58\n"
     ]
    }
   ],
   "source": [
    "segid = 0 #segmentation的id\n",
    "for index in range(len(masks)):\n",
    "    #打开文件，转换为RGB格式\n",
    "    img = Image.open(maskdir+masks[index]).convert(\"RGB\")\n",
    "    w,h = img.size #宽和高\n",
    "    filename = masks[index]\n",
    "    path = maskdir + filename\n",
    "    imgs = {\"id\":index,\"width\":w,\"height\":h,\"file_name\":filename,\"path\":path,\"license\":0,\"fickr_url\":0,\"coco_url\":0,\"data_captured\":0,\"metadata\":{}}\n",
    "    s[\"images\"].append(imgs)\n",
    "    #将mask分离出子mask\n",
    "    res  = create_sub_masks(img)\n",
    "    print(\"progress:\"+str(index))\n",
    "    #对于每一个子mask，转换成segementation\n",
    "    for m in res.keys():\n",
    "        submask = np.array(res[m])\n",
    "        segment = mask2polygon(submask)\n",
    "        bbox = list(bounding_box(submask))\n",
    "        area = countArea(bbox)\n",
    "        anno = {\"id\":segid,\"image_id\":index,\"category_id\":catid[m],\"area\":area,\"segmentation\":segment,\"bbox\":bbox,\"metadata\": {},\"color\":color[m]}\n",
    "        segid += 1\n",
    "        #将segmentation放入字典\n",
    "        s[\"annotations\"].append(anno)\n",
    "      \n",
    "    "
   ]
  },
  {
   "cell_type": "code",
   "execution_count": 13,
   "metadata": {},
   "outputs": [],
   "source": [
    "file_handle=open('a.json',mode='w')\n",
    "file_handle.write(str(s))\n",
    "file_handle.close()"
   ]
  },
  {
   "cell_type": "code",
   "execution_count": 14,
   "metadata": {},
   "outputs": [],
   "source": [
    "\n",
    "import io\n",
    "def alter(file,old_str,new_str):\n",
    "    \"\"\"\n",
    "    替换文件中的字符串\n",
    "    :param file:文件名\n",
    "    :param old_str:就字符串\n",
    "    :param new_str:新字符串\n",
    "    :return:\n",
    "    \"\"\"\n",
    "    file_data = \"\"\n",
    "    with io.open(file, \"r\", encoding=\"utf-8\") as f:\n",
    "        for line in f:\n",
    "            if old_str in line:\n",
    "                line = line.replace(old_str,new_str)\n",
    "            file_data += line\n",
    "    with io.open(file,\"w\",encoding=\"utf-8\") as f:\n",
    "        f.write(file_data)\n",
    "        \n",
    "alter(\"a.json\",\"\\'\",\"\\\"\")\n",
    "alter(\"a.json\",\"png\",\"jpg\")"
   ]
  },
  {
   "cell_type": "code",
   "execution_count": 18,
   "metadata": {
    "scrolled": true
   },
   "outputs": [],
   "source": [
    "# /JPEGImages/2007_000032.jpg /SegmentationClassAug/2007_000032.png\n",
    "s = \" \"\n",
    "file_handle=open('train.txt',mode='w')\n",
    "for mask in masks:\n",
    "    s = \"/JPEGImages/\"+mask[:-4]+\".jpg\"+ \" /SegmentationClass/\"+mask+\"\\n\"\n",
    "    file_handle.write(s)"
   ]
  },
  {
   "cell_type": "code",
   "execution_count": 19,
   "metadata": {},
   "outputs": [],
   "source": [
    "\n",
    "file_handle.close()"
   ]
  }
 ],
 "metadata": {
  "kernelspec": {
   "display_name": "Python 3",
   "language": "python",
   "name": "python3"
  },
  "language_info": {
   "codemirror_mode": {
    "name": "ipython",
    "version": 3
   },
   "file_extension": ".py",
   "mimetype": "text/x-python",
   "name": "python",
   "nbconvert_exporter": "python",
   "pygments_lexer": "ipython3",
   "version": "3.8.5"
  }
 },
 "nbformat": 4,
 "nbformat_minor": 4
}
